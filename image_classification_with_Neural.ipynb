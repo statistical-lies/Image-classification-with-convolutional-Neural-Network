{
  "cells": [
    {
      "cell_type": "markdown",
      "metadata": {
        "id": "view-in-github",
        "colab_type": "text"
      },
      "source": [
        "<a href=\"https://colab.research.google.com/github/statistical-lies/Image-classification-with-convolutional-Neural-Network/blob/main/image_classification_with_Neural.ipynb\" target=\"_parent\"><img src=\"https://colab.research.google.com/assets/colab-badge.svg\" alt=\"Open In Colab\"/></a>"
      ]
    },
    {
      "cell_type": "code",
      "execution_count": null,
      "metadata": {
        "id": "gipfuZ-7oTdf"
      },
      "outputs": [],
      "source": [
        "#importing packages\n",
        "import cv2 as cv\n",
        "import numpy as np\n",
        "import matplotlib.pyplot as plt\n",
        "from tensorflow.keras import datasets,layers,models"
      ]
    },
    {
      "cell_type": "code",
      "execution_count": null,
      "metadata": {
        "id": "TgI3I16koTYv",
        "colab": {
          "base_uri": "https://localhost:8080/"
        },
        "outputId": "4821f6c0-0dbe-4268-c6aa-1735b4cc6bac"
      },
      "outputs": [
        {
          "output_type": "stream",
          "name": "stdout",
          "text": [
            "Downloading data from https://www.cs.toronto.edu/~kriz/cifar-10-python.tar.gz\n",
            "170498071/170498071 [==============================] - 2s 0us/step\n"
          ]
        }
      ],
      "source": [
        "#loan data and split into train and test\n",
        "(X_train, y_train), (X_test, y_test) = datasets.cifar10.load_data()"
      ]
    },
    {
      "cell_type": "code",
      "execution_count": null,
      "metadata": {
        "colab": {
          "base_uri": "https://localhost:8080/"
        },
        "id": "IC37A07ToTWJ",
        "outputId": "81476fb5-9b34-4956-d3f6-bb379a6f7196"
      },
      "outputs": [
        {
          "output_type": "execute_result",
          "data": {
            "text/plain": [
              "(50000, 32, 32, 3)"
            ]
          },
          "metadata": {},
          "execution_count": 3
        }
      ],
      "source": [
        "#checked shape of the x_train\n",
        "X_train.shape"
      ]
    },
    {
      "cell_type": "code",
      "execution_count": null,
      "metadata": {
        "colab": {
          "base_uri": "https://localhost:8080/"
        },
        "id": "67fhBYKwoTT_",
        "outputId": "3db01c1d-7c0a-444c-807f-79d23fdaa4c0"
      },
      "outputs": [
        {
          "output_type": "execute_result",
          "data": {
            "text/plain": [
              "(10000, 32, 32, 3)"
            ]
          },
          "metadata": {},
          "execution_count": 4
        }
      ],
      "source": [
        "#checked shape of x test\n",
        "X_test.shape"
      ]
    },
    {
      "cell_type": "code",
      "execution_count": null,
      "metadata": {
        "colab": {
          "base_uri": "https://localhost:8080/"
        },
        "id": "ShO4wCPfSwsb",
        "outputId": "f56143a8-b4d5-49e8-b023-89b0d529a8de"
      },
      "outputs": [
        {
          "output_type": "execute_result",
          "data": {
            "text/plain": [
              "array([6, 9, 9, 4, 1, 1, 2, 7, 8, 3, 4, 7, 7, 2, 9, 9, 9, 3, 2, 6, 4, 3,\n",
              "       6, 6, 2, 6, 3, 5, 4, 0, 0, 9, 1, 3, 4, 0, 3, 7, 3, 3, 5, 2, 2, 7,\n",
              "       1, 1, 1, 2, 2, 0], dtype=uint8)"
            ]
          },
          "metadata": {},
          "execution_count": 5
        }
      ],
      "source": [
        "#reshaping y_train\n",
        "y_train = y_train.reshape(-1,)\n",
        "y_train[:50]"
      ]
    },
    {
      "cell_type": "code",
      "execution_count": null,
      "metadata": {
        "id": "gYENiFvfTJhU"
      },
      "outputs": [],
      "source": [
        "#reshaping y_test\n",
        "y_test = y_test.reshape(-1,)"
      ]
    },
    {
      "cell_type": "code",
      "execution_count": null,
      "metadata": {
        "id": "4pBzIeBNRnB-"
      },
      "outputs": [],
      "source": [
        "#setting our labeled data to labels\n",
        "labels= ['airplane','automobile','bird','cat','deer','dog','frog','horse', 'ship', 'truck']"
      ]
    },
    {
      "cell_type": "code",
      "execution_count": null,
      "metadata": {
        "id": "UlIfrLbnoTPX"
      },
      "outputs": [],
      "source": [
        "# def x and y and setting it to our label\n",
        "def plot_sample(X, y, index):\n",
        "    plt.figure(figsize = (15,2))\n",
        "    plt.imshow(X[index])\n",
        "    plt.xlabel(labels[y[index]])\n"
      ]
    },
    {
      "cell_type": "code",
      "execution_count": null,
      "metadata": {
        "colab": {
          "base_uri": "https://localhost:8080/",
          "height": 474
        },
        "id": "AE6JkK87oTMY",
        "outputId": "93b6acf8-22c3-49c5-da4f-8f50a621c30c"
      },
      "outputs": [
        {
          "output_type": "execute_result",
          "data": {
            "text/plain": [
              "(None, None)"
            ]
          },
          "metadata": {},
          "execution_count": 9
        },
        {
          "output_type": "display_data",
          "data": {
            "text/plain": [
              "<Figure size 1500x200 with 1 Axes>"
            ],
            "image/png": "[encoded data removed]"
          },
          "metadata": {}
        },
        {
          "output_type": "display_data",
          "data": {
            "text/plain": [
              "<Figure size 1500x200 with 1 Axes>"
            ],
            "image/png": "[encoded data removed]"
          },
          "metadata": {}
        }
      ],
      "source": [
        "#ploting and showing our train data set\n",
        "plot_sample(X_train, y_train, 4),plot_sample(X_train, y_train, 6)"
      ]
    },
    {
      "cell_type": "code",
      "execution_count": null,
      "metadata": {
        "id": "PO5GpWaFoTFQ"
      },
      "outputs": [],
      "source": [
        "#Normalizing the training data\n",
        "X_train = X_train / 255.0\n",
        "X_test = X_test / 255.0"
      ]
    },
    {
      "cell_type": "markdown",
      "metadata": {
        "id": "wMZ5fAeSRXd1"
      },
      "source": [
        "# ANN WITH SGD"
      ]
    },
    {
      "cell_type": "code",
      "execution_count": null,
      "metadata": {
        "colab": {
          "base_uri": "https://localhost:8080/"
        },
        "id": "uySLDCLkUEVR",
        "outputId": "3d6c2990-b171-484f-bab0-5be85dde3dd7"
      },
      "outputs": [
        {
          "output_type": "stream",
          "name": "stdout",
          "text": [
            "Epoch 1/10\n",
            "1563/1563 [==============================] - 93s 59ms/step - loss: 1.8338 - accuracy: 0.3507\n",
            "Epoch 2/10\n",
            "1563/1563 [==============================] - 94s 60ms/step - loss: 1.6515 - accuracy: 0.4214\n",
            "Epoch 3/10\n",
            "1563/1563 [==============================] - 93s 60ms/step - loss: 1.5747 - accuracy: 0.4499\n",
            "Epoch 4/10\n",
            "1563/1563 [==============================] - 94s 60ms/step - loss: 1.5204 - accuracy: 0.4687\n",
            "Epoch 5/10\n",
            "1563/1563 [==============================] - 95s 61ms/step - loss: 1.4774 - accuracy: 0.4831\n",
            "Epoch 6/10\n",
            "1563/1563 [==============================] - 95s 61ms/step - loss: 1.4404 - accuracy: 0.4962\n",
            "Epoch 7/10\n",
            "1563/1563 [==============================] - 93s 60ms/step - loss: 1.4062 - accuracy: 0.5097\n",
            "Epoch 8/10\n",
            "1563/1563 [==============================] - 96s 61ms/step - loss: 1.3775 - accuracy: 0.5210\n",
            "Epoch 9/10\n",
            "1563/1563 [==============================] - 94s 60ms/step - loss: 1.3488 - accuracy: 0.5308\n",
            "Epoch 10/10\n",
            "1563/1563 [==============================] - 94s 60ms/step - loss: 1.3256 - accuracy: 0.5376\n"
          ]
        },
        {
          "output_type": "execute_result",
          "data": {
            "text/plain": [
              "<keras.callbacks.History at 0x7f218612dea0>"
            ]
          },
          "metadata": {},
          "execution_count": 11
        }
      ],
      "source": [
        "#Build simple artificial neural network for image classification\n",
        "ann = models.Sequential([\n",
        "        layers.Flatten(input_shape=(32,32,3)),\n",
        "        layers.Dense(3000, activation='relu'),\n",
        "        layers.Dense(10, activation='softmax')\n",
        "    ])\n",
        "\n",
        "ann.compile(optimizer='SGD',\n",
        "              loss='sparse_categorical_crossentropy',\n",
        "              metrics=['accuracy'])\n",
        "\n",
        "ann.fit(X_train, y_train, epochs=10)"
      ]
    },
    {
      "cell_type": "code",
      "execution_count": null,
      "metadata": {
        "colab": {
          "base_uri": "https://localhost:8080/"
        },
        "id": "ZBSw_UcoUTdx",
        "outputId": "8411bf55-92f7-4f4f-c5aa-48940a933b07"
      },
      "outputs": [
        {
          "output_type": "stream",
          "name": "stdout",
          "text": [
            "313/313 [==============================] - 7s 21ms/step\n",
            "Classification Report: \n",
            "               precision    recall  f1-score   support\n",
            "\n",
            "           0       0.54      0.59      0.56      1000\n",
            "           1       0.36      0.87      0.51      1000\n",
            "           2       0.37      0.48      0.42      1000\n",
            "           3       0.40      0.34      0.36      1000\n",
            "           4       0.50      0.34      0.40      1000\n",
            "           5       0.57      0.20      0.30      1000\n",
            "           6       0.64      0.43      0.51      1000\n",
            "           7       0.49      0.65      0.56      1000\n",
            "           8       0.64      0.59      0.61      1000\n",
            "           9       0.63      0.26      0.36      1000\n",
            "\n",
            "    accuracy                           0.47     10000\n",
            "   macro avg       0.51      0.47      0.46     10000\n",
            "weighted avg       0.51      0.47      0.46     10000\n",
            "\n"
          ]
        }
      ],
      "source": [
        "#You can see that at the end of 10 epochs, accuracy is at around 54%\n",
        "\n",
        "from sklearn.metrics import confusion_matrix , classification_report\n",
        "import numpy as np\n",
        "y_pred1 = ann.predict(X_test)\n",
        "y_pred_classes = [np.argmax(element) for element in y_pred1]\n",
        "\n",
        "print(\"Classification Report: \\n\", classification_report(y_test, y_pred_classes))"
      ]
    },
    {
      "cell_type": "code",
      "execution_count": null,
      "metadata": {
        "colab": {
          "base_uri": "https://localhost:8080/"
        },
        "id": "f4qdgaAcfU1s",
        "outputId": "20de96fb-5d61-42ba-e57c-cb3fb6d5ba7d"
      },
      "outputs": [
        {
          "output_type": "execute_result",
          "data": {
            "text/plain": [
              "array([3, 8, 8, 0, 6, 6, 1, 6, 3, 1, 0, 9, 5, 7, 9, 8, 5, 7, 8, 6],\n",
              "      dtype=uint8)"
            ]
          },
          "metadata": {},
          "execution_count": 13
        }
      ],
      "source": [
        "y_test[:20]"
      ]
    },
    {
      "cell_type": "code",
      "execution_count": null,
      "metadata": {
        "colab": {
          "base_uri": "https://localhost:8080/"
        },
        "id": "AtdbS3jEfU_Z",
        "outputId": "d563a046-80c7-4fba-99ba-ecce34301a20"
      },
      "outputs": [
        {
          "output_type": "execute_result",
          "data": {
            "text/plain": [
              "[3, 1, 8, 8, 4, 6, 1, 4, 3, 1, 8, 1, 1, 7, 1, 8, 7, 0, 8, 6]"
            ]
          },
          "metadata": {},
          "execution_count": 15
        }
      ],
      "source": [
        "y_classes = [np.argmax(element) for element in y_pred1]\n",
        "y_pred_classes[:20]"
      ]
    },
    {
      "cell_type": "code",
      "execution_count": null,
      "metadata": {
        "colab": {
          "base_uri": "https://localhost:8080/"
        },
        "id": "2gong1bAfS98",
        "outputId": "b26ee3ac-7aab-4455-9bd5-d8ae684dc9a6"
      },
      "outputs": [
        {
          "output_type": "stream",
          "name": "stdout",
          "text": [
            "    Actual value  Predicted value\n",
            "0              3                3\n",
            "1              8                1\n",
            "2              8                8\n",
            "3              0                8\n",
            "4              6                4\n",
            "5              6                6\n",
            "6              1                1\n",
            "7              6                4\n",
            "8              3                3\n",
            "9              1                1\n",
            "10             0                8\n",
            "11             9                1\n",
            "12             5                1\n",
            "13             7                7\n",
            "14             9                1\n",
            "15             8                8\n",
            "16             5                7\n",
            "17             7                0\n",
            "18             8                8\n",
            "19             6                6\n"
          ]
        }
      ],
      "source": [
        "#actual value and  predicted value by the model\n",
        "import pandas as pd\n",
        "\n",
        "dt1=({'Actual value': [3, 8, 8, 0, 6, 6, 1, 6, 3, 1, 0, 9, 5, 7, 9, 8, 5, 7, 8, 6],\n",
        " 'Predicted value': [3, 1, 8, 8, 4, 6, 1, 4, 3, 1, 8, 1, 1, 7, 1, 8, 7, 0, 8, 6]})\n",
        "df = pd.DataFrame(dt1)\n",
        "print(df)\n"
      ]
    },
    {
      "cell_type": "code",
      "execution_count": null,
      "metadata": {
        "id": "3fsQS4UvRBR2"
      },
      "outputs": [],
      "source": []
    },
    {
      "cell_type": "markdown",
      "metadata": {
        "id": "UoT0yNO2RFgV"
      },
      "source": [
        "# ANN WITH ADAM"
      ]
    },
    {
      "cell_type": "code",
      "execution_count": null,
      "metadata": {
        "colab": {
          "base_uri": "https://localhost:8080/"
        },
        "id": "zqFKyDKkRBY3",
        "outputId": "043ab1b1-b9c8-4237-aeb9-9348640c16ae"
      },
      "outputs": [
        {
          "output_type": "stream",
          "name": "stdout",
          "text": [
            "Epoch 1/10\n",
            "1563/1563 [==============================] - 247s 158ms/step - loss: 1.9125 - accuracy: 0.3306\n",
            "Epoch 2/10\n",
            "1563/1563 [==============================] - 248s 159ms/step - loss: 1.6755 - accuracy: 0.4007\n",
            "Epoch 3/10\n",
            "1563/1563 [==============================] - 249s 159ms/step - loss: 1.6005 - accuracy: 0.4261\n",
            "Epoch 4/10\n",
            "1563/1563 [==============================] - 253s 162ms/step - loss: 1.5636 - accuracy: 0.4427\n",
            "Epoch 5/10\n",
            "1563/1563 [==============================] - 266s 170ms/step - loss: 1.5292 - accuracy: 0.4533\n",
            "Epoch 6/10\n",
            "1563/1563 [==============================] - 258s 165ms/step - loss: 1.5098 - accuracy: 0.4607\n",
            "Epoch 7/10\n",
            "1563/1563 [==============================] - 262s 168ms/step - loss: 1.4890 - accuracy: 0.4682\n",
            "Epoch 8/10\n",
            "1563/1563 [==============================] - 257s 164ms/step - loss: 1.4689 - accuracy: 0.4766\n",
            "Epoch 9/10\n",
            "1563/1563 [==============================] - 256s 164ms/step - loss: 1.4509 - accuracy: 0.4821\n",
            "Epoch 10/10\n",
            "1563/1563 [==============================] - 256s 164ms/step - loss: 1.4384 - accuracy: 0.4892\n"
          ]
        },
        {
          "output_type": "execute_result",
          "data": {
            "text/plain": [
              "<keras.callbacks.History at 0x7f21861d23b0>"
            ]
          },
          "metadata": {},
          "execution_count": 26
        }
      ],
      "source": [
        "#Build simple artificial neural network for image classification using ADAM optimizer\n",
        "ann = models.Sequential([\n",
        "        layers.Flatten(input_shape=(32,32,3)),\n",
        "        layers.Dense(3000, activation='relu'),\n",
        "        layers.Dense(10, activation='softmax')\n",
        "    ])\n",
        "\n",
        "ann.compile(optimizer='adam',\n",
        "              loss='sparse_categorical_crossentropy',\n",
        "              metrics=['accuracy'])\n",
        "\n",
        "ann.fit(X_train, y_train, epochs=10)"
      ]
    },
    {
      "cell_type": "code",
      "source": [
        "plot_sample(X_train, y_train, 4),plot_sample(X_train, y_train, 6)"
      ],
      "metadata": {
        "colab": {
          "base_uri": "https://localhost:8080/",
          "height": 474
        },
        "id": "emhtXmGVHRjY",
        "outputId": "d12fc464-1c3a-4dd0-e1b1-323120eff54a"
      },
      "execution_count": null,
      "outputs": [
        {
          "output_type": "execute_result",
          "data": {
            "text/plain": [
              "(None, None)"
            ]
          },
          "metadata": {},
          "execution_count": 27
        },
        {
          "output_type": "display_data",
          "data": {
            "text/plain": [
              "<Figure size 1500x200 with 1 Axes>"
            ],
            "image/png": "[encoded data removed]"
          },
          "metadata": {}
        },
        {
          "output_type": "display_data",
          "data": {
            "text/plain": [
              "<Figure size 1500x200 with 1 Axes>"
            ],
            "image/png": "[encoded data removed]"
          },
          "metadata": {}
        }
      ]
    },
    {
      "cell_type": "code",
      "execution_count": null,
      "metadata": {
        "colab": {
          "base_uri": "https://localhost:8080/"
        },
        "id": "o28ziJ8xRBdO",
        "outputId": "7a42c6c6-0b7e-4f01-ebbd-0863f43cbe8e"
      },
      "outputs": [
        {
          "output_type": "stream",
          "name": "stdout",
          "text": [
            "313/313 [==============================] - 7s 22ms/step\n",
            "Classification Report: \n",
            "               precision    recall  f1-score   support\n",
            "\n",
            "           0       0.54      0.56      0.55      1000\n",
            "           1       0.64      0.59      0.61      1000\n",
            "           2       0.33      0.39      0.36      1000\n",
            "           3       0.36      0.26      0.30      1000\n",
            "           4       0.41      0.34      0.37      1000\n",
            "           5       0.35      0.46      0.40      1000\n",
            "           6       0.51      0.56      0.54      1000\n",
            "           7       0.54      0.56      0.55      1000\n",
            "           8       0.60      0.64      0.62      1000\n",
            "           9       0.59      0.49      0.54      1000\n",
            "\n",
            "    accuracy                           0.48     10000\n",
            "   macro avg       0.49      0.48      0.48     10000\n",
            "weighted avg       0.49      0.48      0.48     10000\n",
            "\n"
          ]
        }
      ],
      "source": [
        " #You can see that at the end of 10 epochs, accuracy is at around 50%\n",
        "\n",
        "from sklearn.metrics import confusion_matrix , classification_report\n",
        "import numpy as np\n",
        "y_pred2 = ann.predict(X_test)\n",
        "y_pred_classes = [np.argmax(element) for element in y_pred2]\n",
        "\n",
        "print(\"Classification Report: \\n\", classification_report(y_test, y_pred_classes))"
      ]
    },
    {
      "cell_type": "code",
      "execution_count": null,
      "metadata": {
        "colab": {
          "base_uri": "https://localhost:8080/"
        },
        "id": "doUhTDAYRBiZ",
        "outputId": "cb6273d8-bcd7-4259-8e7d-b6e20e6179d3"
      },
      "outputs": [
        {
          "output_type": "execute_result",
          "data": {
            "text/plain": [
              "array([3, 8, 8, 0, 6, 6, 1, 6, 3, 1, 0, 9, 5, 7, 9, 8, 5, 7, 8, 6],\n",
              "      dtype=uint8)"
            ]
          },
          "metadata": {},
          "execution_count": 29
        }
      ],
      "source": [
        "y_test[:20]"
      ]
    },
    {
      "cell_type": "code",
      "execution_count": null,
      "metadata": {
        "colab": {
          "base_uri": "https://localhost:8080/"
        },
        "id": "2YP5lYaDRBm9",
        "outputId": "e650b4d0-6064-42b6-91c7-68d8fb967194"
      },
      "outputs": [
        {
          "output_type": "execute_result",
          "data": {
            "text/plain": [
              "[3, 8, 0, 8, 4, 6, 3, 6, 2, 1, 8, 9, 5, 7, 1, 8, 5, 3, 8, 6]"
            ]
          },
          "metadata": {},
          "execution_count": 34
        }
      ],
      "source": [
        "y_classes = [np.argmax(element) for element in y_pred2]\n",
        "y_pred_classes[:20]"
      ]
    },
    {
      "cell_type": "code",
      "execution_count": null,
      "metadata": {
        "colab": {
          "base_uri": "https://localhost:8080/"
        },
        "id": "lPSShwdxRBrQ",
        "outputId": "4d6ec9a2-82aa-4195-f72f-cca2c29c3cf6"
      },
      "outputs": [
        {
          "output_type": "stream",
          "name": "stdout",
          "text": [
            "    Actual value  Predicted value\n",
            "0              3                3\n",
            "1              8                8\n",
            "2              8                0\n",
            "3              0                8\n",
            "4              6                4\n",
            "5              6                6\n",
            "6              1                3\n",
            "7              6                6\n",
            "8              3                2\n",
            "9              1                1\n",
            "10             0                8\n",
            "11             9                9\n",
            "12             5                5\n",
            "13             7                7\n",
            "14             9                1\n",
            "15             8                8\n",
            "16             5                5\n",
            "17             7                3\n",
            "18             8                8\n",
            "19             6                6\n"
          ]
        }
      ],
      "source": [
        "import pandas as pd\n",
        "\n",
        "dt2=[[3, 8, 8, 0, 6, 6, 1, 6, 3, 1, 0, 9, 5, 7, 9, 8, 5, 7, 8, 6],[3, 8, 0, 8, 4, 6, 3, 6, 2, 1, 8, 9, 5, 7, 1, 8, 5, 3, 8, 6]]\n",
        "df2 = pd.DataFrame(dt2).transpose()\n",
        "df2.columns = ['Actual value', 'Predicted value']\n",
        "print(df2)"
      ]
    },
    {
      "cell_type": "code",
      "execution_count": null,
      "metadata": {
        "id": "t9coaaMORBve"
      },
      "outputs": [],
      "source": []
    },
    {
      "cell_type": "code",
      "execution_count": null,
      "metadata": {
        "id": "n5oAaAOeRB0Z"
      },
      "outputs": [],
      "source": []
    },
    {
      "cell_type": "code",
      "execution_count": null,
      "metadata": {
        "id": "Oe2r-bHIRB4e"
      },
      "outputs": [],
      "source": []
    },
    {
      "cell_type": "code",
      "execution_count": null,
      "metadata": {
        "id": "vYNkp5NKRB89"
      },
      "outputs": [],
      "source": []
    },
    {
      "cell_type": "markdown",
      "metadata": {
        "id": "JpTo5vr7mUty"
      },
      "source": [
        "## CNN WITH ADAM"
      ]
    },
    {
      "cell_type": "code",
      "execution_count": null,
      "metadata": {
        "id": "Vd180_jYXai4"
      },
      "outputs": [],
      "source": [
        "#Now let us build a convolutional neural network to train our images\n",
        "cnn = models.Sequential([\n",
        "    layers.Conv2D(filters=32, kernel_size=(3, 3), activation='relu', input_shape=(32, 32, 3)),\n",
        "    layers.MaxPooling2D((2, 2)),\n",
        "\n",
        "    layers.Conv2D(filters=64, kernel_size=(3, 3), activation='relu'),\n",
        "    layers.MaxPooling2D((2, 2)),\n",
        "\n",
        "    layers.Flatten(),\n",
        "    layers.Dense(64, activation='relu'),\n",
        "    layers.Dense(10, activation='softmax')\n",
        "])"
      ]
    },
    {
      "cell_type": "code",
      "execution_count": null,
      "metadata": {
        "id": "vaEJGvRbXn7D"
      },
      "outputs": [],
      "source": [
        "cnn.compile(optimizer='adam',\n",
        "              loss='sparse_categorical_crossentropy',\n",
        "              metrics=['accuracy'])"
      ]
    },
    {
      "cell_type": "code",
      "execution_count": null,
      "metadata": {
        "colab": {
          "base_uri": "https://localhost:8080/"
        },
        "id": "XDA1PhqeXqy7",
        "outputId": "577280df-7697-41ec-91c9-6355d4e05d28"
      },
      "outputs": [
        {
          "output_type": "stream",
          "name": "stdout",
          "text": [
            "Epoch 1/10\n",
            "1563/1563 [==============================] - 66s 42ms/step - loss: 1.4849 - accuracy: 0.4660\n",
            "Epoch 2/10\n",
            "1563/1563 [==============================] - 65s 42ms/step - loss: 1.1407 - accuracy: 0.5992\n",
            "Epoch 3/10\n",
            "1563/1563 [==============================] - 64s 41ms/step - loss: 1.0054 - accuracy: 0.6485\n",
            "Epoch 4/10\n",
            "1563/1563 [==============================] - 64s 41ms/step - loss: 0.9137 - accuracy: 0.6793\n",
            "Epoch 5/10\n",
            "1563/1563 [==============================] - 64s 41ms/step - loss: 0.8521 - accuracy: 0.7027\n",
            "Epoch 6/10\n",
            "1563/1563 [==============================] - 63s 41ms/step - loss: 0.7988 - accuracy: 0.7209\n",
            "Epoch 7/10\n",
            "1563/1563 [==============================] - 63s 41ms/step - loss: 0.7453 - accuracy: 0.7405\n",
            "Epoch 8/10\n",
            "1563/1563 [==============================] - 63s 40ms/step - loss: 0.7085 - accuracy: 0.7529\n",
            "Epoch 9/10\n",
            "1563/1563 [==============================] - 65s 42ms/step - loss: 0.6704 - accuracy: 0.7660\n",
            "Epoch 10/10\n",
            "1563/1563 [==============================] - 64s 41ms/step - loss: 0.6321 - accuracy: 0.7805\n"
          ]
        },
        {
          "output_type": "execute_result",
          "data": {
            "text/plain": [
              "<keras.callbacks.History at 0x7f218400b670>"
            ]
          },
          "metadata": {},
          "execution_count": 37
        }
      ],
      "source": [
        "cnn.fit(X_train, y_train, epochs=10)\n"
      ]
    },
    {
      "cell_type": "code",
      "execution_count": null,
      "metadata": {
        "colab": {
          "base_uri": "https://localhost:8080/"
        },
        "id": "pM24FIKOXylW",
        "outputId": "d11e842b-6de1-444c-db7b-9ea60dbf5f4b"
      },
      "outputs": [
        {
          "output_type": "stream",
          "name": "stdout",
          "text": [
            "313/313 [==============================] - 3s 11ms/step - loss: 0.9095 - accuracy: 0.6999\n"
          ]
        },
        {
          "output_type": "execute_result",
          "data": {
            "text/plain": [
              "[0.9094510674476624, 0.6998999714851379]"
            ]
          },
          "metadata": {},
          "execution_count": 38
        }
      ],
      "source": [
        "#With CNN, at the end 10 epochs, accuracy was at around 78% which is a significant improvement over ANN. CNN's\n",
        "#are best for image classification and gives superb accuracy. Also computation is much less compared to simple ANN\n",
        "#as maxpooling reduces the image dimensions while still preserving the features\n",
        "\n",
        "cnn.evaluate(X_test,y_test)"
      ]
    },
    {
      "cell_type": "code",
      "source": [
        " #You can see that at the end of 10 epochs, accuracy is at around 78%\n",
        "\n",
        "from sklearn.metrics import confusion_matrix , classification_report\n",
        "import numpy as np\n",
        "y_pred_cnn = cnn.predict(X_test)\n",
        "y_pred_classes = [np.argmax(element) for element in y_pred_cnn]\n",
        "\n",
        "print(\"Classification Report: \\n\", classification_report(y_test, y_pred_classes))"
      ],
      "metadata": {
        "colab": {
          "base_uri": "https://localhost:8080/"
        },
        "id": "_xLAAuE7aBuA",
        "outputId": "62895481-f078-45b8-bfaa-fdef79661b26"
      },
      "execution_count": null,
      "outputs": [
        {
          "output_type": "stream",
          "name": "stdout",
          "text": [
            "313/313 [==============================] - 3s 10ms/step\n",
            "Classification Report: \n",
            "               precision    recall  f1-score   support\n",
            "\n",
            "           0       0.72      0.77      0.74      1000\n",
            "           1       0.80      0.82      0.81      1000\n",
            "           2       0.60      0.62      0.61      1000\n",
            "           3       0.56      0.47      0.51      1000\n",
            "           4       0.72      0.58      0.64      1000\n",
            "           5       0.60      0.60      0.60      1000\n",
            "           6       0.78      0.75      0.76      1000\n",
            "           7       0.69      0.76      0.72      1000\n",
            "           8       0.85      0.77      0.81      1000\n",
            "           9       0.69      0.85      0.76      1000\n",
            "\n",
            "    accuracy                           0.70     10000\n",
            "   macro avg       0.70      0.70      0.70     10000\n",
            "weighted avg       0.70      0.70      0.70     10000\n",
            "\n"
          ]
        }
      ]
    },
    {
      "cell_type": "code",
      "execution_count": null,
      "metadata": {
        "colab": {
          "base_uri": "https://localhost:8080/"
        },
        "id": "CiDMWLX_aTHO",
        "outputId": "1e46cef7-daf4-4238-94df-6f40120dfba1"
      },
      "outputs": [
        {
          "output_type": "execute_result",
          "data": {
            "text/plain": [
              "[3, 8, 8, 0, 6, 6, 9, 6, 3, 1, 0, 9, 5, 7, 9, 8, 5, 4, 8, 6]"
            ]
          },
          "metadata": {},
          "execution_count": 44
        }
      ],
      "source": [
        "y_prediction = [np.argmax(element) for element in y_pred_cnn]\n",
        "y_prediction[:20]"
      ]
    },
    {
      "cell_type": "code",
      "execution_count": null,
      "metadata": {
        "colab": {
          "base_uri": "https://localhost:8080/"
        },
        "id": "O6HrQGaFaTLu",
        "outputId": "9c4840f1-b7c3-40a1-c2d7-8345017c7b7e"
      },
      "outputs": [
        {
          "output_type": "execute_result",
          "data": {
            "text/plain": [
              "array([3, 8, 8, 0, 6, 6, 1, 6, 3, 1, 0, 9, 5, 7, 9, 8, 5, 7, 8, 6],\n",
              "      dtype=uint8)"
            ]
          },
          "metadata": {},
          "execution_count": 45
        }
      ],
      "source": [
        "y_test[:20]"
      ]
    },
    {
      "cell_type": "code",
      "execution_count": null,
      "metadata": {
        "colab": {
          "base_uri": "https://localhost:8080/"
        },
        "id": "IqriINlDdT2V",
        "outputId": "3e8650e7-6794-4ff1-e8c1-75b961998b22"
      },
      "outputs": [
        {
          "output_type": "stream",
          "name": "stdout",
          "text": [
            "    Actual value  Predicted value\n",
            "0              3                3\n",
            "1              8                8\n",
            "2              8                8\n",
            "3              0                0\n",
            "4              6                6\n",
            "5              6                6\n",
            "6              1                9\n",
            "7              6                6\n",
            "8              3                3\n",
            "9              1                1\n",
            "10             0                0\n",
            "11             9                9\n",
            "12             5                5\n",
            "13             7                7\n",
            "14             9                9\n",
            "15             8                8\n",
            "16             5                5\n",
            "17             4                4\n",
            "18             8                8\n",
            "19             6                6\n"
          ]
        }
      ],
      "source": [
        "import pandas as pd\n",
        "\n",
        "dt1=[[3, 8, 8, 0, 6, 6, 1, 6, 3, 1, 0, 9, 5, 7, 9, 8, 5, 4, 8, 6],[3, 8, 8, 0, 6, 6, 9, 6, 3, 1, 0, 9, 5, 7, 9, 8, 5, 4, 8, 6]]\n",
        "df = pd.DataFrame(dt1).transpose()\n",
        "df.columns = ['Actual value', 'Predicted value']\n",
        "print(df)"
      ]
    },
    {
      "cell_type": "code",
      "source": [],
      "metadata": {
        "id": "iCLrEFuLTYs0"
      },
      "execution_count": null,
      "outputs": []
    },
    {
      "cell_type": "code",
      "source": [],
      "metadata": {
        "id": "RfWi7SNQcZf6"
      },
      "execution_count": null,
      "outputs": []
    },
    {
      "cell_type": "code",
      "source": [],
      "metadata": {
        "id": "fqGFtewIggim"
      },
      "execution_count": null,
      "outputs": []
    },
    {
      "cell_type": "code",
      "source": [],
      "metadata": {
        "id": "RryDSnczggoa"
      },
      "execution_count": null,
      "outputs": []
    },
    {
      "cell_type": "code",
      "source": [],
      "metadata": {
        "id": "6D-PprfMggrP"
      },
      "execution_count": null,
      "outputs": []
    },
    {
      "cell_type": "code",
      "source": [],
      "metadata": {
        "id": "tb8gIynNcZlp"
      },
      "execution_count": null,
      "outputs": []
    },
    {
      "cell_type": "markdown",
      "source": [
        "## CNN WITH SGD"
      ],
      "metadata": {
        "id": "OzxuKC-Td-dJ"
      }
    },
    {
      "cell_type": "code",
      "source": [
        "#Now let us build a convolutional neural network to train our images with SGD optimizer\n",
        "cnn1 = models.Sequential([\n",
        "    layers.Conv2D(filters=32, kernel_size=(3, 3), activation='relu', input_shape=(32, 32, 3)),\n",
        "    layers.MaxPooling2D((2, 2)),\n",
        "\n",
        "    layers.Conv2D(filters=64, kernel_size=(3, 3), activation='relu'),\n",
        "    layers.MaxPooling2D((2, 2)),\n",
        "\n",
        "    layers.Flatten(),\n",
        "    layers.Dense(64, activation='relu'),\n",
        "    layers.Dense(10, activation='softmax')\n",
        "])"
      ],
      "metadata": {
        "id": "8zl5SCBucZqR"
      },
      "execution_count": null,
      "outputs": []
    },
    {
      "cell_type": "code",
      "source": [
        "cnn1.compile(optimizer='SGD',\n",
        "              loss='sparse_categorical_crossentropy',\n",
        "              metrics=['accuracy'])"
      ],
      "metadata": {
        "id": "WJ2bLCuncf-y"
      },
      "execution_count": null,
      "outputs": []
    },
    {
      "cell_type": "code",
      "source": [
        "cnn1.fit(X_train, y_train, epochs=10)"
      ],
      "metadata": {
        "colab": {
          "base_uri": "https://localhost:8080/"
        },
        "id": "K1cFiWR-cgEK",
        "outputId": "6d6bb0d8-205a-4eff-959b-a6abd339763f"
      },
      "execution_count": null,
      "outputs": [
        {
          "output_type": "stream",
          "name": "stdout",
          "text": [
            "Epoch 1/10\n",
            "1563/1563 [==============================] - 82s 52ms/step - loss: 1.9338 - accuracy: 0.2987\n",
            "Epoch 2/10\n",
            "1563/1563 [==============================] - 64s 41ms/step - loss: 1.5482 - accuracy: 0.4436\n",
            "Epoch 3/10\n",
            "1563/1563 [==============================] - 64s 41ms/step - loss: 1.4076 - accuracy: 0.4964\n",
            "Epoch 4/10\n",
            "1563/1563 [==============================] - 64s 41ms/step - loss: 1.3123 - accuracy: 0.5351\n",
            "Epoch 5/10\n",
            "1563/1563 [==============================] - 74s 47ms/step - loss: 1.2292 - accuracy: 0.5656\n",
            "Epoch 6/10\n",
            "1563/1563 [==============================] - 79s 50ms/step - loss: 1.1586 - accuracy: 0.5924\n",
            "Epoch 7/10\n",
            "1563/1563 [==============================] - 65s 42ms/step - loss: 1.0994 - accuracy: 0.6147\n",
            "Epoch 8/10\n",
            "1563/1563 [==============================] - 65s 41ms/step - loss: 1.0497 - accuracy: 0.6346\n",
            "Epoch 9/10\n",
            "1563/1563 [==============================] - 65s 42ms/step - loss: 1.0028 - accuracy: 0.6509\n",
            "Epoch 10/10\n",
            "1563/1563 [==============================] - 65s 42ms/step - loss: 0.9652 - accuracy: 0.6647\n"
          ]
        },
        {
          "output_type": "execute_result",
          "data": {
            "text/plain": [
              "<keras.callbacks.History at 0x7f211b8ffe80>"
            ]
          },
          "metadata": {},
          "execution_count": 49
        }
      ]
    },
    {
      "cell_type": "code",
      "source": [
        "cnn1.evaluate(X_test,y_test)"
      ],
      "metadata": {
        "colab": {
          "base_uri": "https://localhost:8080/"
        },
        "id": "es-kzjFAcgHi",
        "outputId": "cd1c1fed-2283-4fdf-bfa1-f9506ef3af1a"
      },
      "execution_count": null,
      "outputs": [
        {
          "output_type": "stream",
          "name": "stdout",
          "text": [
            "313/313 [==============================] - 6s 18ms/step - loss: 1.0265 - accuracy: 0.6422\n"
          ]
        },
        {
          "output_type": "execute_result",
          "data": {
            "text/plain": [
              "[1.0264545679092407, 0.6421999931335449]"
            ]
          },
          "metadata": {},
          "execution_count": 50
        }
      ]
    },
    {
      "cell_type": "code",
      "source": [
        " #You can see that at the end of 10 epochs, accuracy is at around 66%\n",
        "\n",
        "from sklearn.metrics import confusion_matrix , classification_report\n",
        "import numpy as np\n",
        "y_pred_cnn1 = cnn1.predict(X_test)\n",
        "y_pred_classes = [np.argmax(element) for element in y_pred_cnn1]\n",
        "\n",
        "print(\"Classification Report: \\n\", classification_report(y_test, y_pred_classes))"
      ],
      "metadata": {
        "colab": {
          "base_uri": "https://localhost:8080/"
        },
        "id": "3TwxZ4KScgNB",
        "outputId": "4f5e02df-cf1c-47ce-a6aa-f29a2d998650"
      },
      "execution_count": null,
      "outputs": [
        {
          "output_type": "stream",
          "name": "stdout",
          "text": [
            "313/313 [==============================] - 3s 11ms/step\n",
            "Classification Report: \n",
            "               precision    recall  f1-score   support\n",
            "\n",
            "           0       0.64      0.76      0.69      1000\n",
            "           1       0.74      0.80      0.77      1000\n",
            "           2       0.64      0.41      0.50      1000\n",
            "           3       0.54      0.34      0.41      1000\n",
            "           4       0.55      0.63      0.58      1000\n",
            "           5       0.47      0.69      0.56      1000\n",
            "           6       0.73      0.70      0.72      1000\n",
            "           7       0.72      0.70      0.71      1000\n",
            "           8       0.82      0.65      0.72      1000\n",
            "           9       0.68      0.75      0.71      1000\n",
            "\n",
            "    accuracy                           0.64     10000\n",
            "   macro avg       0.65      0.64      0.64     10000\n",
            "weighted avg       0.65      0.64      0.64     10000\n",
            "\n"
          ]
        }
      ]
    },
    {
      "cell_type": "code",
      "source": [
        "y_prediction = [np.argmax(element) for element in y_pred_cnn1]\n",
        "y_prediction[:20]"
      ],
      "metadata": {
        "colab": {
          "base_uri": "https://localhost:8080/"
        },
        "id": "EcqHJktBcgP5",
        "outputId": "873d8e0a-d513-4a93-9000-0a4f4fdbf8fb"
      },
      "execution_count": null,
      "outputs": [
        {
          "output_type": "execute_result",
          "data": {
            "text/plain": [
              "[3, 1, 8, 0, 4, 6, 1, 6, 5, 1, 0, 9, 5, 7, 9, 8, 5, 3, 8, 6]"
            ]
          },
          "metadata": {},
          "execution_count": 53
        }
      ]
    },
    {
      "cell_type": "code",
      "source": [
        "y_test[:20]"
      ],
      "metadata": {
        "colab": {
          "base_uri": "https://localhost:8080/"
        },
        "id": "NDqLa_-0c9Ac",
        "outputId": "c0fa8aab-625f-4c8a-ef04-3426a7629f09"
      },
      "execution_count": null,
      "outputs": [
        {
          "output_type": "execute_result",
          "data": {
            "text/plain": [
              "array([3, 8, 8, 0, 6, 6, 1, 6, 3, 1, 0, 9, 5, 7, 9, 8, 5, 7, 8, 6],\n",
              "      dtype=uint8)"
            ]
          },
          "metadata": {},
          "execution_count": 54
        }
      ]
    },
    {
      "cell_type": "code",
      "source": [
        "import pandas as pd\n",
        "\n",
        "dt1=[[3, 8, 8, 0, 6, 6, 1, 6, 3, 1, 0, 9, 5, 7, 9, 8, 5, 4, 8, 6],[3, 1, 8, 0, 4, 6, 1, 6, 5, 1, 0, 9, 5, 7, 9, 8, 5, 3, 8, 6]]\n",
        "df = pd.DataFrame(dt1).transpose()\n",
        "df.columns = ['Actual value', 'Predicted value']\n",
        "print(df)"
      ],
      "metadata": {
        "colab": {
          "base_uri": "https://localhost:8080/"
        },
        "id": "M1RVsF5hc9EI",
        "outputId": "953dec80-d07e-4793-a7fd-c7a3ade5f450"
      },
      "execution_count": null,
      "outputs": [
        {
          "output_type": "stream",
          "name": "stdout",
          "text": [
            "    Actual value  Predicted value\n",
            "0              3                3\n",
            "1              8                1\n",
            "2              8                8\n",
            "3              0                0\n",
            "4              6                4\n",
            "5              6                6\n",
            "6              1                1\n",
            "7              6                6\n",
            "8              3                5\n",
            "9              1                1\n",
            "10             0                0\n",
            "11             9                9\n",
            "12             5                5\n",
            "13             7                7\n",
            "14             9                9\n",
            "15             8                8\n",
            "16             5                5\n",
            "17             4                3\n",
            "18             8                8\n",
            "19             6                6\n"
          ]
        }
      ]
    },
    {
      "cell_type": "code",
      "source": [],
      "metadata": {
        "id": "PEXOTHmBgpJN"
      },
      "execution_count": null,
      "outputs": []
    }
  ],
  "metadata": {
    "colab": {
      "provenance": [],
      "authorship_tag": "ABX9TyNMEPUbr9mko+Y63EzZjkP2",
      "include_colab_link": true
    },
    "kernelspec": {
      "display_name": "Python 3",
      "name": "python3"
    },
    "language_info": {
      "name": "python"
    }
  },
  "nbformat": 4,
  "nbformat_minor": 0
}